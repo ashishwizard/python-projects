{
 "metadata": {
  "language_info": {
   "codemirror_mode": {
    "name": "ipython",
    "version": 3
   },
   "file_extension": ".py",
   "mimetype": "text/x-python",
   "name": "python",
   "nbconvert_exporter": "python",
   "pygments_lexer": "ipython3",
   "version": "3.9.0"
  },
  "orig_nbformat": 2,
  "kernelspec": {
   "name": "python390jvsc74a57bd0f4fb9f6fa47a01f5c16e6c4b35c7ed0de8b32c1e80f9d8a22993fe45357c5775",
   "display_name": "Python 3.9.0 64-bit"
  },
  "metadata": {
   "interpreter": {
    "hash": "f4fb9f6fa47a01f5c16e6c4b35c7ed0de8b32c1e80f9d8a22993fe45357c5775"
   }
  }
 },
 "nbformat": 4,
 "nbformat_minor": 2,
 "cells": [
  {
   "cell_type": "code",
   "execution_count": 1,
   "metadata": {},
   "outputs": [],
   "source": [
    "##working on pandas\n",
    "import pandas as pd\n",
    "import numpy as np\n"
   ]
  },
  {
   "cell_type": "code",
   "execution_count": 2,
   "metadata": {},
   "outputs": [],
   "source": [
    "df=pd.DataFrame()"
   ]
  },
  {
   "cell_type": "code",
   "execution_count": 3,
   "metadata": {},
   "outputs": [
    {
     "output_type": "stream",
     "name": "stdout",
     "text": [
      "Empty DataFrame\nColumns: []\nIndex: []\n"
     ]
    }
   ],
   "source": [
    "print(df)"
   ]
  },
  {
   "cell_type": "code",
   "execution_count": 4,
   "metadata": {},
   "outputs": [],
   "source": [
    "df1=pd.DataFrame([[1,2,3,4,],[8,6,2,6],[5,6,89,23],[5,1,41,87],[56,84,1,7],[4,8,9,7]],columns=['A','B','C','D'])"
   ]
  },
  {
   "cell_type": "code",
   "execution_count": 5,
   "metadata": {},
   "outputs": [
    {
     "output_type": "execute_result",
     "data": {
      "text/plain": [
       "    A   B   C   D\n",
       "0   1   2   3   4\n",
       "1   8   6   2   6\n",
       "2   5   6  89  23\n",
       "3   5   1  41  87\n",
       "4  56  84   1   7\n",
       "5   4   8   9   7"
      ],
      "text/html": "<div>\n<style scoped>\n    .dataframe tbody tr th:only-of-type {\n        vertical-align: middle;\n    }\n\n    .dataframe tbody tr th {\n        vertical-align: top;\n    }\n\n    .dataframe thead th {\n        text-align: right;\n    }\n</style>\n<table border=\"1\" class=\"dataframe\">\n  <thead>\n    <tr style=\"text-align: right;\">\n      <th></th>\n      <th>A</th>\n      <th>B</th>\n      <th>C</th>\n      <th>D</th>\n    </tr>\n  </thead>\n  <tbody>\n    <tr>\n      <th>0</th>\n      <td>1</td>\n      <td>2</td>\n      <td>3</td>\n      <td>4</td>\n    </tr>\n    <tr>\n      <th>1</th>\n      <td>8</td>\n      <td>6</td>\n      <td>2</td>\n      <td>6</td>\n    </tr>\n    <tr>\n      <th>2</th>\n      <td>5</td>\n      <td>6</td>\n      <td>89</td>\n      <td>23</td>\n    </tr>\n    <tr>\n      <th>3</th>\n      <td>5</td>\n      <td>1</td>\n      <td>41</td>\n      <td>87</td>\n    </tr>\n    <tr>\n      <th>4</th>\n      <td>56</td>\n      <td>84</td>\n      <td>1</td>\n      <td>7</td>\n    </tr>\n    <tr>\n      <th>5</th>\n      <td>4</td>\n      <td>8</td>\n      <td>9</td>\n      <td>7</td>\n    </tr>\n  </tbody>\n</table>\n</div>"
     },
     "metadata": {},
     "execution_count": 5
    }
   ],
   "source": [
    "df1"
   ]
  },
  {
   "cell_type": "code",
   "execution_count": 25,
   "metadata": {},
   "outputs": [
    {
     "output_type": "execute_result",
     "data": {
      "text/plain": [
       "   A  B   C   D\n",
       "0  1  2   3   4\n",
       "1  8  6   2   6\n",
       "2  5  6  89  23"
      ],
      "text/html": "<div>\n<style scoped>\n    .dataframe tbody tr th:only-of-type {\n        vertical-align: middle;\n    }\n\n    .dataframe tbody tr th {\n        vertical-align: top;\n    }\n\n    .dataframe thead th {\n        text-align: right;\n    }\n</style>\n<table border=\"1\" class=\"dataframe\">\n  <thead>\n    <tr style=\"text-align: right;\">\n      <th></th>\n      <th>A</th>\n      <th>B</th>\n      <th>C</th>\n      <th>D</th>\n    </tr>\n  </thead>\n  <tbody>\n    <tr>\n      <th>0</th>\n      <td>1</td>\n      <td>2</td>\n      <td>3</td>\n      <td>4</td>\n    </tr>\n    <tr>\n      <th>1</th>\n      <td>8</td>\n      <td>6</td>\n      <td>2</td>\n      <td>6</td>\n    </tr>\n    <tr>\n      <th>2</th>\n      <td>5</td>\n      <td>6</td>\n      <td>89</td>\n      <td>23</td>\n    </tr>\n  </tbody>\n</table>\n</div>"
     },
     "metadata": {},
     "execution_count": 25
    }
   ],
   "source": [
    "df1.head(3)"
   ]
  },
  {
   "cell_type": "code",
   "execution_count": 26,
   "metadata": {},
   "outputs": [
    {
     "output_type": "execute_result",
     "data": {
      "text/plain": [
       "    A   B   C   D\n",
       "3   5   1  41  87\n",
       "4  56  84   1   7\n",
       "5   4   8   9   7"
      ],
      "text/html": "<div>\n<style scoped>\n    .dataframe tbody tr th:only-of-type {\n        vertical-align: middle;\n    }\n\n    .dataframe tbody tr th {\n        vertical-align: top;\n    }\n\n    .dataframe thead th {\n        text-align: right;\n    }\n</style>\n<table border=\"1\" class=\"dataframe\">\n  <thead>\n    <tr style=\"text-align: right;\">\n      <th></th>\n      <th>A</th>\n      <th>B</th>\n      <th>C</th>\n      <th>D</th>\n    </tr>\n  </thead>\n  <tbody>\n    <tr>\n      <th>3</th>\n      <td>5</td>\n      <td>1</td>\n      <td>41</td>\n      <td>87</td>\n    </tr>\n    <tr>\n      <th>4</th>\n      <td>56</td>\n      <td>84</td>\n      <td>1</td>\n      <td>7</td>\n    </tr>\n    <tr>\n      <th>5</th>\n      <td>4</td>\n      <td>8</td>\n      <td>9</td>\n      <td>7</td>\n    </tr>\n  </tbody>\n</table>\n</div>"
     },
     "metadata": {},
     "execution_count": 26
    }
   ],
   "source": [
    "df1.tail(3)"
   ]
  },
  {
   "cell_type": "code",
   "execution_count": 27,
   "metadata": {},
   "outputs": [
    {
     "output_type": "execute_result",
     "data": {
      "text/plain": [
       "(6, 4)"
      ]
     },
     "metadata": {},
     "execution_count": 27
    }
   ],
   "source": [
    "df1.shape"
   ]
  },
  {
   "cell_type": "code",
   "execution_count": 28,
   "metadata": {},
   "outputs": [
    {
     "output_type": "execute_result",
     "data": {
      "text/plain": [
       "    A   B   C   D\n",
       "0   1   2   3   4\n",
       "1   8   6   2   6\n",
       "2   5   6  89  23\n",
       "3   5   1  41  87\n",
       "4  56  84   1   7\n",
       "5   4   8   9   7"
      ],
      "text/html": "<div>\n<style scoped>\n    .dataframe tbody tr th:only-of-type {\n        vertical-align: middle;\n    }\n\n    .dataframe tbody tr th {\n        vertical-align: top;\n    }\n\n    .dataframe thead th {\n        text-align: right;\n    }\n</style>\n<table border=\"1\" class=\"dataframe\">\n  <thead>\n    <tr style=\"text-align: right;\">\n      <th></th>\n      <th>A</th>\n      <th>B</th>\n      <th>C</th>\n      <th>D</th>\n    </tr>\n  </thead>\n  <tbody>\n    <tr>\n      <th>0</th>\n      <td>1</td>\n      <td>2</td>\n      <td>3</td>\n      <td>4</td>\n    </tr>\n    <tr>\n      <th>1</th>\n      <td>8</td>\n      <td>6</td>\n      <td>2</td>\n      <td>6</td>\n    </tr>\n    <tr>\n      <th>2</th>\n      <td>5</td>\n      <td>6</td>\n      <td>89</td>\n      <td>23</td>\n    </tr>\n    <tr>\n      <th>3</th>\n      <td>5</td>\n      <td>1</td>\n      <td>41</td>\n      <td>87</td>\n    </tr>\n    <tr>\n      <th>4</th>\n      <td>56</td>\n      <td>84</td>\n      <td>1</td>\n      <td>7</td>\n    </tr>\n    <tr>\n      <th>5</th>\n      <td>4</td>\n      <td>8</td>\n      <td>9</td>\n      <td>7</td>\n    </tr>\n  </tbody>\n</table>\n</div>"
     },
     "metadata": {},
     "execution_count": 28
    }
   ],
   "source": [
    "df1"
   ]
  },
  {
   "cell_type": "code",
   "execution_count": 29,
   "metadata": {},
   "outputs": [
    {
     "output_type": "execute_result",
     "data": {
      "text/plain": [
       "   A  B   C\n",
       "0  1  2   3\n",
       "1  8  6   2\n",
       "2  5  6  89"
      ],
      "text/html": "<div>\n<style scoped>\n    .dataframe tbody tr th:only-of-type {\n        vertical-align: middle;\n    }\n\n    .dataframe tbody tr th {\n        vertical-align: top;\n    }\n\n    .dataframe thead th {\n        text-align: right;\n    }\n</style>\n<table border=\"1\" class=\"dataframe\">\n  <thead>\n    <tr style=\"text-align: right;\">\n      <th></th>\n      <th>A</th>\n      <th>B</th>\n      <th>C</th>\n    </tr>\n  </thead>\n  <tbody>\n    <tr>\n      <th>0</th>\n      <td>1</td>\n      <td>2</td>\n      <td>3</td>\n    </tr>\n    <tr>\n      <th>1</th>\n      <td>8</td>\n      <td>6</td>\n      <td>2</td>\n    </tr>\n    <tr>\n      <th>2</th>\n      <td>5</td>\n      <td>6</td>\n      <td>89</td>\n    </tr>\n  </tbody>\n</table>\n</div>"
     },
     "metadata": {},
     "execution_count": 29
    }
   ],
   "source": [
    "df1.iloc[0:3,0:3]"
   ]
  },
  {
   "cell_type": "code",
   "execution_count": 33,
   "metadata": {},
   "outputs": [
    {
     "output_type": "execute_result",
     "data": {
      "text/plain": [
       "    A   B   C   D\n",
       "1   8   6   2   6\n",
       "2   5   6  89  23\n",
       "3   5   1  41  87\n",
       "4  56  84   1   7"
      ],
      "text/html": "<div>\n<style scoped>\n    .dataframe tbody tr th:only-of-type {\n        vertical-align: middle;\n    }\n\n    .dataframe tbody tr th {\n        vertical-align: top;\n    }\n\n    .dataframe thead th {\n        text-align: right;\n    }\n</style>\n<table border=\"1\" class=\"dataframe\">\n  <thead>\n    <tr style=\"text-align: right;\">\n      <th></th>\n      <th>A</th>\n      <th>B</th>\n      <th>C</th>\n      <th>D</th>\n    </tr>\n  </thead>\n  <tbody>\n    <tr>\n      <th>1</th>\n      <td>8</td>\n      <td>6</td>\n      <td>2</td>\n      <td>6</td>\n    </tr>\n    <tr>\n      <th>2</th>\n      <td>5</td>\n      <td>6</td>\n      <td>89</td>\n      <td>23</td>\n    </tr>\n    <tr>\n      <th>3</th>\n      <td>5</td>\n      <td>1</td>\n      <td>41</td>\n      <td>87</td>\n    </tr>\n    <tr>\n      <th>4</th>\n      <td>56</td>\n      <td>84</td>\n      <td>1</td>\n      <td>7</td>\n    </tr>\n  </tbody>\n</table>\n</div>"
     },
     "metadata": {},
     "execution_count": 33
    }
   ],
   "source": [
    "df1[df1['A']>4]"
   ]
  },
  {
   "cell_type": "code",
   "execution_count": null,
   "metadata": {},
   "outputs": [],
   "source": [
    "##mean of A,B,C,D row "
   ]
  },
  {
   "cell_type": "code",
   "execution_count": 34,
   "metadata": {},
   "outputs": [
    {
     "output_type": "execute_result",
     "data": {
      "text/plain": [
       "A    13.166667\n",
       "B    17.833333\n",
       "C    24.166667\n",
       "D    22.333333\n",
       "dtype: float64"
      ]
     },
     "metadata": {},
     "execution_count": 34
    }
   ],
   "source": [
    "df1.mean()"
   ]
  },
  {
   "cell_type": "code",
   "execution_count": null,
   "metadata": {},
   "outputs": [],
   "source": [
    "#mean of 0,1,2,3,4,5 column"
   ]
  },
  {
   "cell_type": "code",
   "execution_count": 35,
   "metadata": {},
   "outputs": [
    {
     "output_type": "execute_result",
     "data": {
      "text/plain": [
       "0     2.50\n",
       "1     5.50\n",
       "2    30.75\n",
       "3    33.50\n",
       "4    37.00\n",
       "5     7.00\n",
       "dtype: float64"
      ]
     },
     "metadata": {},
     "execution_count": 35
    }
   ],
   "source": [
    "df1.mean(1)"
   ]
  },
  {
   "cell_type": "code",
   "execution_count": 37,
   "metadata": {},
   "outputs": [
    {
     "output_type": "execute_result",
     "data": {
      "text/plain": [
       "    A   B   C   D\n",
       "0   1   2   3   4\n",
       "1   8   6   2   6\n",
       "2   5   6  89  23\n",
       "3   5   1  41  87\n",
       "4  56  84   1   7\n",
       "5   4   8   9   7"
      ],
      "text/html": "<div>\n<style scoped>\n    .dataframe tbody tr th:only-of-type {\n        vertical-align: middle;\n    }\n\n    .dataframe tbody tr th {\n        vertical-align: top;\n    }\n\n    .dataframe thead th {\n        text-align: right;\n    }\n</style>\n<table border=\"1\" class=\"dataframe\">\n  <thead>\n    <tr style=\"text-align: right;\">\n      <th></th>\n      <th>A</th>\n      <th>B</th>\n      <th>C</th>\n      <th>D</th>\n    </tr>\n  </thead>\n  <tbody>\n    <tr>\n      <th>0</th>\n      <td>1</td>\n      <td>2</td>\n      <td>3</td>\n      <td>4</td>\n    </tr>\n    <tr>\n      <th>1</th>\n      <td>8</td>\n      <td>6</td>\n      <td>2</td>\n      <td>6</td>\n    </tr>\n    <tr>\n      <th>2</th>\n      <td>5</td>\n      <td>6</td>\n      <td>89</td>\n      <td>23</td>\n    </tr>\n    <tr>\n      <th>3</th>\n      <td>5</td>\n      <td>1</td>\n      <td>41</td>\n      <td>87</td>\n    </tr>\n    <tr>\n      <th>4</th>\n      <td>56</td>\n      <td>84</td>\n      <td>1</td>\n      <td>7</td>\n    </tr>\n    <tr>\n      <th>5</th>\n      <td>4</td>\n      <td>8</td>\n      <td>9</td>\n      <td>7</td>\n    </tr>\n  </tbody>\n</table>\n</div>"
     },
     "metadata": {},
     "execution_count": 37
    }
   ],
   "source": [
    "df1"
   ]
  },
  {
   "cell_type": "code",
   "execution_count": 17,
   "metadata": {},
   "outputs": [
    {
     "output_type": "execute_result",
     "data": {
      "text/plain": [
       "    A    B    C    D\n",
       "0   1    2    3    4\n",
       "1   9    8    5   10\n",
       "2  14   14   94   33\n",
       "3  19   15  135  120\n",
       "4  75   99  136  127\n",
       "5  79  107  145  134"
      ],
      "text/html": "<div>\n<style scoped>\n    .dataframe tbody tr th:only-of-type {\n        vertical-align: middle;\n    }\n\n    .dataframe tbody tr th {\n        vertical-align: top;\n    }\n\n    .dataframe thead th {\n        text-align: right;\n    }\n</style>\n<table border=\"1\" class=\"dataframe\">\n  <thead>\n    <tr style=\"text-align: right;\">\n      <th></th>\n      <th>A</th>\n      <th>B</th>\n      <th>C</th>\n      <th>D</th>\n    </tr>\n  </thead>\n  <tbody>\n    <tr>\n      <th>0</th>\n      <td>1</td>\n      <td>2</td>\n      <td>3</td>\n      <td>4</td>\n    </tr>\n    <tr>\n      <th>1</th>\n      <td>9</td>\n      <td>8</td>\n      <td>5</td>\n      <td>10</td>\n    </tr>\n    <tr>\n      <th>2</th>\n      <td>14</td>\n      <td>14</td>\n      <td>94</td>\n      <td>33</td>\n    </tr>\n    <tr>\n      <th>3</th>\n      <td>19</td>\n      <td>15</td>\n      <td>135</td>\n      <td>120</td>\n    </tr>\n    <tr>\n      <th>4</th>\n      <td>75</td>\n      <td>99</td>\n      <td>136</td>\n      <td>127</td>\n    </tr>\n    <tr>\n      <th>5</th>\n      <td>79</td>\n      <td>107</td>\n      <td>145</td>\n      <td>134</td>\n    </tr>\n  </tbody>\n</table>\n</div>"
     },
     "metadata": {},
     "execution_count": 17
    }
   ],
   "source": [
    "df1.apply(np.cumsum)#adding columns to previous columns"
   ]
  },
  {
   "cell_type": "code",
   "execution_count": 18,
   "metadata": {},
   "outputs": [],
   "source": [
    "df1.to_csv('export.csv')"
   ]
  },
  {
   "cell_type": "code",
   "execution_count": 39,
   "metadata": {},
   "outputs": [
    {
     "output_type": "execute_result",
     "data": {
      "text/plain": [
       "A    55\n",
       "B    83\n",
       "C    88\n",
       "D    83\n",
       "dtype: int64"
      ]
     },
     "metadata": {},
     "execution_count": 39
    }
   ],
   "source": [
    "df1.apply(lambda x: x.max()-x.min())"
   ]
  },
  {
   "cell_type": "code",
   "execution_count": 8,
   "metadata": {},
   "outputs": [],
   "source": [
    "import pandas as pd"
   ]
  },
  {
   "cell_type": "code",
   "execution_count": 11,
   "metadata": {},
   "outputs": [],
   "source": [
    "df = pd.read_csv('data.csv')"
   ]
  },
  {
   "cell_type": "code",
   "execution_count": 13,
   "metadata": {},
   "outputs": [],
   "source": [
    "#for openinig csv file we need to place csv file in cpp or where all vs code files are."
   ]
  },
  {
   "cell_type": "code",
   "execution_count": 14,
   "metadata": {},
   "outputs": [
    {
     "output_type": "execute_result",
     "data": {
      "text/plain": [
       "       SYMBOL  SERIES         DATE1   PREV_CLOSE  OPEN_PRICE   HIGH_PRICE  \\\n",
       "0   20MICRONS      EQ   23-Apr-2021        36.00       36.75        36.75   \n",
       "1  21STCENMGM      EQ   23-Apr-2021        12.10       12.25        12.25   \n",
       "2  3IINFOTECH      EQ   23-Apr-2021         7.00        7.00         7.10   \n",
       "3     3MINDIA      EQ   23-Apr-2021     27004.05    26752.00     27200.00   \n",
       "4      3PLAND      EQ   23-Apr-2021         9.45        9.45         9.85   \n",
       "\n",
       "    LOW_PRICE   LAST_PRICE   CLOSE_PRICE   AVG_PRICE   TTL_TRD_QNTY  \\\n",
       "0       35.40        36.50         36.30       35.95          65388   \n",
       "1       11.90        11.90         11.90       11.99           5006   \n",
       "2        6.80         6.90          6.85        6.96        9018770   \n",
       "3    26201.00     26340.00      26378.00    26705.53           2935   \n",
       "4        9.25         9.85          9.70        9.63          10989   \n",
       "\n",
       "    TURNOVER_LACS   NO_OF_TRADES  DELIV_QTY  DELIV_PER  \n",
       "0           23.51            669      43464      66.47  \n",
       "1            0.60             43       3678      73.47  \n",
       "2          627.54           5773    6844996       75.9  \n",
       "3          783.81           1748        878      29.91  \n",
       "4            1.06             77       7498      68.23  "
      ],
      "text/html": "<div>\n<style scoped>\n    .dataframe tbody tr th:only-of-type {\n        vertical-align: middle;\n    }\n\n    .dataframe tbody tr th {\n        vertical-align: top;\n    }\n\n    .dataframe thead th {\n        text-align: right;\n    }\n</style>\n<table border=\"1\" class=\"dataframe\">\n  <thead>\n    <tr style=\"text-align: right;\">\n      <th></th>\n      <th>SYMBOL</th>\n      <th>SERIES</th>\n      <th>DATE1</th>\n      <th>PREV_CLOSE</th>\n      <th>OPEN_PRICE</th>\n      <th>HIGH_PRICE</th>\n      <th>LOW_PRICE</th>\n      <th>LAST_PRICE</th>\n      <th>CLOSE_PRICE</th>\n      <th>AVG_PRICE</th>\n      <th>TTL_TRD_QNTY</th>\n      <th>TURNOVER_LACS</th>\n      <th>NO_OF_TRADES</th>\n      <th>DELIV_QTY</th>\n      <th>DELIV_PER</th>\n    </tr>\n  </thead>\n  <tbody>\n    <tr>\n      <th>0</th>\n      <td>20MICRONS</td>\n      <td>EQ</td>\n      <td>23-Apr-2021</td>\n      <td>36.00</td>\n      <td>36.75</td>\n      <td>36.75</td>\n      <td>35.40</td>\n      <td>36.50</td>\n      <td>36.30</td>\n      <td>35.95</td>\n      <td>65388</td>\n      <td>23.51</td>\n      <td>669</td>\n      <td>43464</td>\n      <td>66.47</td>\n    </tr>\n    <tr>\n      <th>1</th>\n      <td>21STCENMGM</td>\n      <td>EQ</td>\n      <td>23-Apr-2021</td>\n      <td>12.10</td>\n      <td>12.25</td>\n      <td>12.25</td>\n      <td>11.90</td>\n      <td>11.90</td>\n      <td>11.90</td>\n      <td>11.99</td>\n      <td>5006</td>\n      <td>0.60</td>\n      <td>43</td>\n      <td>3678</td>\n      <td>73.47</td>\n    </tr>\n    <tr>\n      <th>2</th>\n      <td>3IINFOTECH</td>\n      <td>EQ</td>\n      <td>23-Apr-2021</td>\n      <td>7.00</td>\n      <td>7.00</td>\n      <td>7.10</td>\n      <td>6.80</td>\n      <td>6.90</td>\n      <td>6.85</td>\n      <td>6.96</td>\n      <td>9018770</td>\n      <td>627.54</td>\n      <td>5773</td>\n      <td>6844996</td>\n      <td>75.9</td>\n    </tr>\n    <tr>\n      <th>3</th>\n      <td>3MINDIA</td>\n      <td>EQ</td>\n      <td>23-Apr-2021</td>\n      <td>27004.05</td>\n      <td>26752.00</td>\n      <td>27200.00</td>\n      <td>26201.00</td>\n      <td>26340.00</td>\n      <td>26378.00</td>\n      <td>26705.53</td>\n      <td>2935</td>\n      <td>783.81</td>\n      <td>1748</td>\n      <td>878</td>\n      <td>29.91</td>\n    </tr>\n    <tr>\n      <th>4</th>\n      <td>3PLAND</td>\n      <td>EQ</td>\n      <td>23-Apr-2021</td>\n      <td>9.45</td>\n      <td>9.45</td>\n      <td>9.85</td>\n      <td>9.25</td>\n      <td>9.85</td>\n      <td>9.70</td>\n      <td>9.63</td>\n      <td>10989</td>\n      <td>1.06</td>\n      <td>77</td>\n      <td>7498</td>\n      <td>68.23</td>\n    </tr>\n  </tbody>\n</table>\n</div>"
     },
     "metadata": {},
     "execution_count": 14
    }
   ],
   "source": [
    "df.head()"
   ]
  },
  {
   "cell_type": "code",
   "execution_count": 16,
   "metadata": {},
   "outputs": [
    {
     "output_type": "stream",
     "name": "stdout",
     "text": [
      "0          36.00\n1          12.10\n2           7.00\n3       27004.05\n4           9.45\n          ...   \n1995       25.85\n1996      166.50\n1997       90.30\n1998       78.00\n1999     2072.10\nName:  PREV_CLOSE, Length: 2000, dtype: float64\n"
     ]
    }
   ],
   "source": [
    "print(df[' PREV_CLOSE'])"
   ]
  },
  {
   "cell_type": "code",
   "execution_count": null,
   "metadata": {},
   "outputs": [],
   "source": []
  }
 ]
}